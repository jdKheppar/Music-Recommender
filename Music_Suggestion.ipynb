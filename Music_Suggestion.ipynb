{
  "nbformat": 4,
  "nbformat_minor": 0,
  "metadata": {
    "colab": {
      "provenance": []
    },
    "kernelspec": {
      "name": "python3",
      "display_name": "Python 3"
    },
    "language_info": {
      "name": "python"
    }
  },
  "cells": [
    {
      "cell_type": "code",
      "execution_count": 18,
      "metadata": {
        "colab": {
          "base_uri": "https://localhost:8080/"
        },
        "id": "Sb_6sj28YHXx",
        "outputId": "e8db5987-cc1f-42d8-85b3-c714523f96ef"
      },
      "outputs": [
        {
          "output_type": "execute_result",
          "data": {
            "text/plain": [
              "75.0"
            ]
          },
          "metadata": {},
          "execution_count": 18
        }
      ],
      "source": [
        "import pandas as pd\n",
        "from sklearn.tree import DecisionTreeClassifier\n",
        "from sklearn.model_selection import train_test_split\n",
        "from sklearn.metrics import accuracy_score\n",
        "import joblib\n",
        "music_data = pd.read_csv('music.csv')\n",
        "X = music_data.drop(columns=['genre'])\n",
        "Y = music_data['genre']\n",
        "X_train, X_test, Y_train, Y_test = train_test_split(X,Y,test_size=0.2)\n",
        "#the above function is returning a tuple and doing random shuffle\n",
        "#of test and train data\n",
        "#that is why accuracy would be variable on every run\n",
        "\n",
        "\n",
        "model = DecisionTreeClassifier()\n",
        "model.fit(X_train,Y_train)\n",
        "joblib.dump(model,'music-recommender.joblib')\n",
        "\n",
        "model = joblib.load('music-recommender.joblib')\n",
        "predictions = model.predict(X_test)\n",
        "score = accuracy_score(Y_test,predictions)*100\n",
        "score"
      ]
    },
    {
      "cell_type": "code",
      "source": [
        "#using the entire data set because of low size for better visualizing\n",
        "from sklearn import tree\n",
        "treeModel = DecisionTreeClassifier()\n",
        "treeModel.fit(X,Y)\n",
        "tree.export_graphviz(treeModel, out_file='music-recommender.dot',\n",
        "                     feature_names=['age','gender'],\n",
        "                     class_names=sorted(Y.unique()),\n",
        "                     label='all',\n",
        "                     rounded=True,\n",
        "                     filled=True)\n",
        "#open the music-recommender.dot file in vs code with extension Graphviz(dot)\n",
        "#language support for VS Code by Stephanvs\n",
        "\n"
      ],
      "metadata": {
        "id": "rm-GEj74kuTN"
      },
      "execution_count": 20,
      "outputs": []
    }
  ]
}